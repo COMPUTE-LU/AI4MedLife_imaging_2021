{
 "cells": [
  {
   "cell_type": "markdown",
   "metadata": {
    "slideshow": {
     "slide_type": "slide"
    }
   },
   "source": [
    "<div style=\"text-align: center; background: url(lulth.png); background-repeat: no-repeat; background-size: 20%; background-position: bottom right;\">\n",
    "    <h1 style=\"border-radius: 15px; padding: 5px; background: #915f2d; color: #ffffff;\">COMPUTE - AI for image and video data</h1>\n",
    "    <h3>Marcus Klang</h3>\n",
    "    <h3 style=\"margin:0;padding:5\"><a href=\"mailto:Marcus.Klang@cs.lth.se\">Marcus.Klang@cs.lth.se</a></h3>\n",
    "    <h3>Oct 19 - Afternoon</h3>\n",
    "    <h5>Putting it all together - Training models</h5>\n",
    "    <br/>\n",
    "    <h2>Welcome!</h2>\n",
    "</div>"
   ]
  },
  {
   "cell_type": "markdown",
   "metadata": {
    "slideshow": {
     "slide_type": "subslide"
    }
   },
   "source": [
    "<h1 style=\"margin-bottom: 15px\">The agenda</h1>\n",
    "\n",
    "<div style=\"border-radius: 15px; padding: 0px; background: #EDE4DC;\">\n",
    "    <h3 style=\"background: #915f2d; color: #FFFFFF; border-radius: 15px; padding: 8px; margin: 0\">Putting it all together</h3>\n",
    "    <div style=\"padding: 5px\">\n",
    "    <ul style=\"margin:0\">\n",
    "        <li><b>Concepts</b>\n",
    "            <ul>\n",
    "                <li>Gradient decent</li>\n",
    "                <li>Optimization</li>\n",
    "                <li>Auto diffrentiation</li>\n",
    "                <li>Learning rate</li>\n",
    "                <li>Underfitting/Overfitting</li>\n",
    "                <li>Confusion matrix</li>\n",
    "            </ul>\n",
    "        </li>\n",
    "        <li>Keras Model API - Loading/Saving models</li>\n",
    "        <li><b>Live coding:</b>\n",
    "            <ul>\n",
    "                <li>MNIST</li>\n",
    "                <li>Citrus Leaves classification</li>\n",
    "                <li>Transfer learning - Citrus Leaves</li>\n",
    "                <li>Transfer learning with augmentation - Citrus Leaves</li>\n",
    "            </ul>\n",
    "        </li>\n",
    "     </ul>\n",
    "    </div>\n",
    "</div>"
   ]
  },
  {
   "cell_type": "markdown",
   "metadata": {
    "slideshow": {
     "slide_type": "slide"
    }
   },
   "source": [
    "<div style=\"text-align:center; width:100%\">\n",
    "    <h1>Training</h1>\n",
    "</div>"
   ]
  },
  {
   "cell_type": "markdown",
   "metadata": {},
   "source": [
    "# Overall goal\n",
    "\n",
    " * Find parameters by iteratively talking steps that improve a models ability to better do predictions\n",
    "    + Gradient Decent\n",
    " * Stochastic Gradient Decent\n",
    "    + We will not train on the entire data at once, and as such we will only have an estimate of what the best direction will be $\\rightarrow$ stochastic\n",
    "    + We will feed the model with mini-batches, that is a set of *samples* to learn from.\n",
    "       - Learning is the mathematical equivalent to finding a gradient or derivative with respect to the error"
   ]
  },
  {
   "cell_type": "markdown",
   "metadata": {
    "slideshow": {
     "slide_type": "subslide"
    },
    "tags": []
   },
   "source": [
    "# Gradient Decent"
   ]
  },
  {
   "cell_type": "markdown",
   "metadata": {},
   "source": [
    "### Find a local minima with respect to the loss function\n",
    "<img src=\"slide_images/Gradient_descent.gif\" style=\"width:40%\"/>\n",
    "\n",
    "**Image source:** Wikimedia Commons   \n",
    "https://commons.wikimedia.org/wiki/File:Gradient_descent.gif"
   ]
  },
  {
   "cell_type": "markdown",
   "metadata": {
    "slideshow": {
     "slide_type": "subslide"
    }
   },
   "source": [
    "# Derivative - Gradient"
   ]
  },
  {
   "cell_type": "markdown",
   "metadata": {},
   "source": [
    "We call it a **derivative** when we have one dimension   \n",
    "We call it a **gradient** when we have multiple dimensions"
   ]
  },
  {
   "cell_type": "markdown",
   "metadata": {},
   "source": [
    "<img src=\"slide_images/derivative.svg\" style=\"width:45%\"/>"
   ]
  },
  {
   "cell_type": "markdown",
   "metadata": {
    "slideshow": {
     "slide_type": "subslide"
    }
   },
   "source": [
    "# Derivative - Gradient"
   ]
  },
  {
   "cell_type": "markdown",
   "metadata": {},
   "source": [
    "**The definition of a derivative**"
   ]
  },
  {
   "cell_type": "markdown",
   "metadata": {},
   "source": [
    "$$\n",
    "f'(a)=\\lim_{h\\to 0}\\frac{f(a+h)-f(a)}{h}\n",
    "$$"
   ]
  },
  {
   "cell_type": "markdown",
   "metadata": {},
   "source": [
    "**Example**"
   ]
  },
  {
   "cell_type": "markdown",
   "metadata": {},
   "source": [
    "$$\n",
    "\\begin{align*}\n",
    "\\textrm{normal function : } & f(x) &= x^2 \\\\\n",
    "\\textrm{it's derivative : } & f'(x) &= 2x \n",
    "\\end{align*}\n",
    "$$"
   ]
  },
  {
   "cell_type": "markdown",
   "metadata": {
    "slideshow": {
     "slide_type": "subslide"
    }
   },
   "source": [
    "# Todays imports"
   ]
  },
  {
   "cell_type": "code",
   "execution_count": 2,
   "metadata": {},
   "outputs": [],
   "source": [
    "import tensorflow as tf\n",
    "import numpy as np\n",
    "import seaborn as sn\n",
    "import pandas as pd\n",
    "import matplotlib.pyplot as plt\n",
    "from tensorflow.keras import layers, utils, losses, optimizers, Model, Sequential\n",
    "from sklearn.metrics import classification_report, confusion_matrix"
   ]
  },
  {
   "cell_type": "markdown",
   "metadata": {
    "slideshow": {
     "slide_type": "subslide"
    },
    "tags": []
   },
   "source": [
    "# Auto diffrentiation"
   ]
  },
  {
   "cell_type": "markdown",
   "metadata": {},
   "source": [
    "How to get the gradient:\n",
    " * Analythical\n",
    "    + Time consuming - difficult\n",
    " * Approximately by using small differences\n",
    "    + Inprecise, instable\n",
    "    + Costly\n",
    " * Using a auto diffrentiation algorithm\n",
    "    + Records the operations required to compute the value\n",
    "    + Algorithmically computes the deriviate using the chain rule\n",
    "    + Works with arbitrary code in most cases\n",
    "    \n",
    "For deeper introduction: https://www.tensorflow.org/guide/autodiff"
   ]
  },
  {
   "cell_type": "markdown",
   "metadata": {
    "slideshow": {
     "slide_type": "subslide"
    }
   },
   "source": [
    "## Auto diffrentiation"
   ]
  },
  {
   "cell_type": "markdown",
   "metadata": {
    "slideshow": {
     "slide_type": "-"
    }
   },
   "source": [
    "### Numerical approximation"
   ]
  },
  {
   "cell_type": "code",
   "execution_count": 3,
   "metadata": {},
   "outputs": [],
   "source": [
    "def f(x):\n",
    "    return x**2"
   ]
  },
  {
   "cell_type": "code",
   "execution_count": 9,
   "metadata": {},
   "outputs": [
    {
     "data": {
      "text/plain": [
       "6.000000496442226"
      ]
     },
     "execution_count": 9,
     "metadata": {},
     "output_type": "execute_result"
    }
   ],
   "source": [
    "h = 1e-10\n",
    "(f(3.0+h) - f(3.0)) / h"
   ]
  },
  {
   "cell_type": "markdown",
   "metadata": {},
   "source": [
    "Central difference - slightly better"
   ]
  },
  {
   "cell_type": "code",
   "execution_count": 10,
   "metadata": {},
   "outputs": [
    {
     "data": {
      "text/plain": [
       "5.999999990180527"
      ]
     },
     "execution_count": 10,
     "metadata": {},
     "output_type": "execute_result"
    }
   ],
   "source": [
    "h = 1e-7\n",
    "(f(3.0+h) - f(3.0-h)) / (h+h)"
   ]
  },
  {
   "cell_type": "markdown",
   "metadata": {},
   "source": [
    "Exact with tensorflow"
   ]
  },
  {
   "cell_type": "code",
   "execution_count": 11,
   "metadata": {},
   "outputs": [
    {
     "data": {
      "text/plain": [
       "6.0"
      ]
     },
     "execution_count": 11,
     "metadata": {},
     "output_type": "execute_result"
    }
   ],
   "source": [
    "x = tf.Variable(3.0)\n",
    "\n",
    "with tf.GradientTape() as tape:\n",
    "    y = f(x)\n",
    "    \n",
    "tape.gradient(y, x).numpy()"
   ]
  },
  {
   "cell_type": "markdown",
   "metadata": {
    "slideshow": {
     "slide_type": "subslide"
    }
   },
   "source": [
    "# Auto diffrentiation"
   ]
  },
  {
   "cell_type": "markdown",
   "metadata": {},
   "source": [
    "Over many values"
   ]
  },
  {
   "cell_type": "code",
   "execution_count": 12,
   "metadata": {},
   "outputs": [
    {
     "data": {
      "text/plain": [
       "<tf.Tensor: shape=(100,), dtype=float64, numpy=\n",
       "array([-6.        , -5.87878788, -5.75757576, -5.63636364, -5.51515152,\n",
       "       -5.39393939, -5.27272727, -5.15151515, -5.03030303, -4.90909091,\n",
       "       -4.78787879, -4.66666667, -4.54545455, -4.42424242, -4.3030303 ,\n",
       "       -4.18181818, -4.06060606, -3.93939394, -3.81818182, -3.6969697 ,\n",
       "       -3.57575758, -3.45454545, -3.33333333, -3.21212121, -3.09090909,\n",
       "       -2.96969697, -2.84848485, -2.72727273, -2.60606061, -2.48484848,\n",
       "       -2.36363636, -2.24242424, -2.12121212, -2.        , -1.87878788,\n",
       "       -1.75757576, -1.63636364, -1.51515152, -1.39393939, -1.27272727,\n",
       "       -1.15151515, -1.03030303, -0.90909091, -0.78787879, -0.66666667,\n",
       "       -0.54545455, -0.42424242, -0.3030303 , -0.18181818, -0.06060606,\n",
       "        0.06060606,  0.18181818,  0.3030303 ,  0.42424242,  0.54545455,\n",
       "        0.66666667,  0.78787879,  0.90909091,  1.03030303,  1.15151515,\n",
       "        1.27272727,  1.39393939,  1.51515152,  1.63636364,  1.75757576,\n",
       "        1.87878788,  2.        ,  2.12121212,  2.24242424,  2.36363636,\n",
       "        2.48484848,  2.60606061,  2.72727273,  2.84848485,  2.96969697,\n",
       "        3.09090909,  3.21212121,  3.33333333,  3.45454545,  3.57575758,\n",
       "        3.6969697 ,  3.81818182,  3.93939394,  4.06060606,  4.18181818,\n",
       "        4.3030303 ,  4.42424242,  4.54545455,  4.66666667,  4.78787879,\n",
       "        4.90909091,  5.03030303,  5.15151515,  5.27272727,  5.39393939,\n",
       "        5.51515152,  5.63636364,  5.75757576,  5.87878788,  6.        ])>"
      ]
     },
     "execution_count": 12,
     "metadata": {},
     "output_type": "execute_result"
    }
   ],
   "source": [
    "x = tf.Variable(np.linspace(-3,3, 100))\n",
    "\n",
    "with tf.GradientTape() as tape:\n",
    "    y = x**2\n",
    "    \n",
    "tape.gradient(y, x)"
   ]
  },
  {
   "cell_type": "markdown",
   "metadata": {
    "slideshow": {
     "slide_type": "subslide"
    }
   },
   "source": [
    "# Minimal optimization problem with tensorflow\n",
    "#### Some data"
   ]
  },
  {
   "cell_type": "code",
   "execution_count": 13,
   "metadata": {},
   "outputs": [],
   "source": [
    "# Generate some data\n",
    "x = np.linspace(-5,5,100)\n",
    "y = x*0.4 + np.random.randn(x.shape[0])*0.5 + 6"
   ]
  },
  {
   "cell_type": "code",
   "execution_count": 14,
   "metadata": {},
   "outputs": [
    {
     "data": {
      "text/plain": [
       "<matplotlib.collections.PathCollection at 0x7fab1096d700>"
      ]
     },
     "execution_count": 14,
     "metadata": {},
     "output_type": "execute_result"
    },
    {
     "data": {
      "image/png": "[encoded data removed]",
      "text/plain": [
       "<Figure size 432x288 with 1 Axes>"
      ]
     },
     "metadata": {
      "needs_background": "light"
     },
     "output_type": "display_data"
    }
   ],
   "source": [
    "plt.scatter(x,y)"
   ]
  },
  {
   "cell_type": "markdown",
   "metadata": {
    "slideshow": {
     "slide_type": "subslide"
    }
   },
   "source": [
    "# Minimal optimization problem with tensorflow"
   ]
  },
  {
   "cell_type": "markdown",
   "metadata": {},
   "source": [
    "Our model:\n",
    "$$\n",
    "\\begin{align}\n",
    " y = k x + b\n",
    "\\end{align}\n",
    "$$"
   ]
  },
  {
   "cell_type": "markdown",
   "metadata": {},
   "source": [
    "Our goal is to find parameters k and b"
   ]
  },
  {
   "cell_type": "code",
   "execution_count": 15,
   "metadata": {},
   "outputs": [],
   "source": [
    "# Mean squared error\n",
    "mse = tf.keras.losses.MSE"
   ]
  },
  {
   "cell_type": "code",
   "execution_count": 28,
   "metadata": {},
   "outputs": [
    {
     "name": "stdout",
     "output_type": "stream",
     "text": [
      "initial values k = -1.0756173133850098 b = 0.03223961591720581\n",
      "iter 0 loss 55.13919\n",
      "iter 1 loss 47.92287\n",
      "iter 2 loss 42.5614\n",
      "iter 3 loss 38.493103\n",
      "iter 4 loss 35.33046\n",
      "iter 5 loss 32.805927\n",
      "iter 6 loss 30.734657\n",
      "iter 7 loss 28.988775\n",
      "iter 8 loss 27.47966\n",
      "iter 9 loss 26.14579\n",
      "iter 10 loss 24.944284\n",
      "iter 11 loss 23.845154\n",
      "iter 12 loss 22.827293\n",
      "iter 13 loss 21.875738\n",
      "iter 14 loss 20.979778\n",
      "iter 15 loss 20.131634\n",
      "iter 16 loss 19.325573\n",
      "iter 17 loss 18.557287\n",
      "iter 18 loss 17.823458\n",
      "iter 19 loss 17.121468\n",
      "iter 20 loss 16.449188\n",
      "iter 21 loss 15.804849\n",
      "iter 22 loss 15.186934\n",
      "iter 23 loss 14.594112\n",
      "iter 24 loss 14.025202\n",
      "iter 25 loss 13.479113\n",
      "iter 26 loss 12.954856\n",
      "iter 27 loss 12.451499\n",
      "iter 28 loss 11.968171\n",
      "iter 29 loss 11.50405\n",
      "iter 30 loss 11.058355\n",
      "iter 31 loss 10.630343\n",
      "iter 32 loss 10.2193\n",
      "iter 33 loss 9.824551\n",
      "iter 34 loss 9.445442\n",
      "iter 35 loss 9.081354\n",
      "iter 36 loss 8.7316885\n",
      "iter 37 loss 8.395873\n",
      "iter 38 loss 8.073359\n",
      "iter 39 loss 7.763617\n",
      "iter 40 loss 7.4661427\n",
      "iter 41 loss 7.180448\n",
      "iter 42 loss 6.9060683\n",
      "iter 43 loss 6.6425543\n",
      "iter 44 loss 6.389477\n",
      "iter 45 loss 6.1464205\n",
      "iter 46 loss 5.9129896\n",
      "iter 47 loss 5.688802\n",
      "iter 48 loss 5.4734926\n",
      "iter 49 loss 5.26671\n",
      "iter 50 loss 5.068115\n",
      "iter 51 loss 4.877385\n",
      "iter 52 loss 4.694208\n",
      "iter 53 loss 4.518285\n",
      "iter 54 loss 4.3493285\n",
      "iter 55 loss 4.187062\n",
      "iter 56 loss 4.0312204\n",
      "iter 57 loss 3.8815522\n",
      "iter 58 loss 3.7378092\n",
      "iter 59 loss 3.5997596\n",
      "iter 60 loss 3.4671764\n",
      "iter 61 loss 3.339844\n",
      "iter 62 loss 3.2175534\n",
      "iter 63 loss 3.1001055\n",
      "iter 64 loss 2.9873087\n",
      "iter 65 loss 2.8789794\n",
      "iter 66 loss 2.7749386\n",
      "iter 67 loss 2.675019\n",
      "iter 68 loss 2.579055\n",
      "iter 69 loss 2.4868917\n",
      "iter 70 loss 2.3983784\n",
      "iter 71 loss 2.31337\n",
      "iter 72 loss 2.2317276\n",
      "iter 73 loss 2.153318\n",
      "iter 74 loss 2.0780137\n",
      "iter 75 loss 2.0056918\n",
      "iter 76 loss 1.9362334\n",
      "iter 77 loss 1.8695254\n",
      "iter 78 loss 1.8054595\n",
      "iter 79 loss 1.7439303\n",
      "iter 80 loss 1.6848384\n",
      "iter 81 loss 1.6280855\n",
      "iter 82 loss 1.5735811\n",
      "iter 83 loss 1.5212344\n",
      "iter 84 loss 1.4709607\n",
      "iter 85 loss 1.4226775\n",
      "iter 86 loss 1.3763069\n",
      "iter 87 loss 1.331772\n",
      "iter 88 loss 1.289001\n",
      "iter 89 loss 1.247924\n",
      "iter 90 loss 1.2084732\n",
      "iter 91 loss 1.1705843\n",
      "iter 92 loss 1.1341964\n",
      "iter 93 loss 1.0992492\n",
      "iter 94 loss 1.0656861\n",
      "iter 95 loss 1.0334518\n",
      "iter 96 loss 1.0024941\n",
      "iter 97 loss 0.97276247\n",
      "iter 98 loss 0.9442083\n",
      "iter 99 loss 0.91678476\n",
      "iter 100 loss 0.890447\n",
      "iter 101 loss 0.86515236\n",
      "iter 102 loss 0.84085965\n",
      "iter 103 loss 0.81752896\n",
      "iter 104 loss 0.79512215\n",
      "iter 105 loss 0.77360266\n",
      "iter 106 loss 0.75293523\n",
      "iter 107 loss 0.7330861\n",
      "iter 108 loss 0.71402305\n",
      "iter 109 loss 0.69571495\n",
      "iter 110 loss 0.6781316\n",
      "iter 111 loss 0.6612445\n",
      "iter 112 loss 0.6450263\n",
      "iter 113 loss 0.6294504\n",
      "iter 114 loss 0.6144913\n",
      "iter 115 loss 0.6001248\n",
      "iter 116 loss 0.586327\n",
      "iter 117 loss 0.57307565\n",
      "iter 118 loss 0.56034875\n",
      "iter 119 loss 0.5481262\n",
      "iter 120 loss 0.5363876\n",
      "iter 121 loss 0.5251139\n",
      "iter 122 loss 0.5142865\n",
      "iter 123 loss 0.50388795\n",
      "iter 124 loss 0.49390128\n",
      "iter 125 loss 0.4843099\n",
      "iter 126 loss 0.47509852\n",
      "iter 127 loss 0.46625155\n",
      "iter 128 loss 0.45775518\n",
      "iter 129 loss 0.44959503\n",
      "iter 130 loss 0.44175813\n",
      "iter 131 loss 0.43423152\n",
      "iter 132 loss 0.42700303\n",
      "iter 133 loss 0.420061\n",
      "iter 134 loss 0.41339383\n",
      "iter 135 loss 0.4069906\n",
      "iter 136 loss 0.4008408\n",
      "iter 137 loss 0.39493474\n",
      "iter 138 loss 0.38926256\n",
      "iter 139 loss 0.38381472\n",
      "iter 140 loss 0.37858266\n",
      "iter 141 loss 0.37355787\n",
      "iter 142 loss 0.36873204\n",
      "iter 143 loss 0.36409736\n",
      "iter 144 loss 0.35964626\n",
      "iter 145 loss 0.35537136\n",
      "iter 146 loss 0.3512658\n",
      "iter 147 loss 0.34732285\n",
      "iter 148 loss 0.34353614\n",
      "iter 149 loss 0.3398992\n",
      "iter 150 loss 0.3364063\n",
      "iter 151 loss 0.33305165\n",
      "iter 152 loss 0.32983005\n",
      "iter 153 loss 0.32673594\n",
      "iter 154 loss 0.32376426\n",
      "iter 155 loss 0.32091033\n",
      "iter 156 loss 0.3181694\n",
      "iter 157 loss 0.31553704\n",
      "iter 158 loss 0.31300884\n",
      "iter 159 loss 0.31058076\n",
      "iter 160 loss 0.3082489\n",
      "iter 161 loss 0.3060095\n",
      "iter 162 loss 0.30385867\n",
      "iter 163 loss 0.30179313\n",
      "iter 164 loss 0.29980928\n",
      "iter 165 loss 0.29790398\n",
      "iter 166 loss 0.29607418\n",
      "iter 167 loss 0.29431674\n",
      "iter 168 loss 0.29262897\n",
      "iter 169 loss 0.29100803\n",
      "iter 170 loss 0.28945124\n",
      "iter 171 loss 0.28795612\n",
      "iter 172 loss 0.28652018\n",
      "iter 173 loss 0.28514117\n",
      "iter 174 loss 0.2838167\n",
      "iter 175 loss 0.28254473\n",
      "iter 176 loss 0.28132308\n",
      "iter 177 loss 0.28014988\n",
      "iter 178 loss 0.27902314\n",
      "iter 179 loss 0.2779409\n",
      "iter 180 loss 0.2769016\n",
      "iter 181 loss 0.27590346\n",
      "iter 182 loss 0.2749448\n",
      "iter 183 loss 0.2740242\n",
      "iter 184 loss 0.27314004\n",
      "iter 185 loss 0.2722909\n",
      "iter 186 loss 0.27147534\n",
      "iter 187 loss 0.27069208\n",
      "iter 188 loss 0.26993978\n",
      "iter 189 loss 0.26921737\n",
      "iter 190 loss 0.2685235\n",
      "iter 191 loss 0.2678571\n",
      "iter 192 loss 0.26721716\n",
      "iter 193 loss 0.26660258\n",
      "iter 194 loss 0.26601225\n",
      "iter 195 loss 0.26544532\n",
      "iter 196 loss 0.26490083\n",
      "iter 197 loss 0.2643779\n",
      "iter 198 loss 0.26387572\n",
      "iter 199 loss 0.2633934\n"
     ]
    }
   ],
   "source": [
    "# learning rate\n",
    "lr = 1e-2\n",
    "k = tf.Variable(np.random.randn())\n",
    "b = tf.Variable(np.random.randn())\n",
    "\n",
    "print(\"initial values\", f\"k = {k.numpy()}\", f\"b = {b.numpy()}\")\n",
    "\n",
    "for i in range(200):\n",
    "    with tf.GradientTape() as tape:\n",
    "        # Predict\n",
    "        yp = k * x + b\n",
    "        \n",
    "        # Compute loss\n",
    "        loss = mse(y, yp) \n",
    "        \n",
    "    print(\"iter\", i, \"loss\", loss.numpy())\n",
    "        \n",
    "    # Compute the gradient for loss with respect to k and b\n",
    "    grad = tape.gradient(loss, [k, b])\n",
    "    d_k, d_b = grad\n",
    "    \n",
    "    # Update our parameters\n",
    "    k.assign_add(-d_k * lr)  \n",
    "    b.assign_add(-d_b * lr)"
   ]
  },
  {
   "cell_type": "code",
   "execution_count": 17,
   "metadata": {},
   "outputs": [
    {
     "name": "stdout",
     "output_type": "stream",
     "text": [
      "k = 0.4023090898990631, b = 5.944342136383057\n"
     ]
    }
   ],
   "source": [
    "print(f\"k = {k.numpy()}, b = {b.numpy()}\")"
   ]
  },
  {
   "cell_type": "code",
   "execution_count": 18,
   "metadata": {},
   "outputs": [
    {
     "data": {
      "text/plain": [
       "[<matplotlib.lines.Line2D at 0x7fab21f11fd0>]"
      ]
     },
     "execution_count": 18,
     "metadata": {},
     "output_type": "execute_result"
    },
    {
     "data": {
      "image/png": "[encoded data removed]",
      "text/plain": [
       "<Figure size 432x288 with 1 Axes>"
      ]
     },
     "metadata": {
      "needs_background": "light"
     },
     "output_type": "display_data"
    }
   ],
   "source": [
    "plt.scatter(x,y)\n",
    "#xp = np.linspace(-6,6,100)\n",
    "yp = x * k.numpy() + b.numpy()\n",
    "plt.plot(x, yp, 'r')"
   ]
  },
  {
   "cell_type": "markdown",
   "metadata": {
    "slideshow": {
     "slide_type": "subslide"
    }
   },
   "source": [
    "# Minimal optimization problem with tensorflow\n",
    "### Keras"
   ]
  },
  {
   "cell_type": "code",
   "execution_count": 23,
   "metadata": {},
   "outputs": [
    {
     "name": "stdout",
     "output_type": "stream",
     "text": [
      "Model: \"sequential_1\"\n",
      "_________________________________________________________________\n",
      "Layer (type)                 Output Shape              Param #   \n",
      "=================================================================\n",
      "dense_1 (Dense)              (None, 1)                 2         \n",
      "=================================================================\n",
      "Total params: 2\n",
      "Trainable params: 2\n",
      "Non-trainable params: 0\n",
      "_________________________________________________________________\n"
     ]
    }
   ],
   "source": [
    "model = Sequential()\n",
    "model.add(layers.Input(shape=(1,)))\n",
    "model.add(layers.Dense(1))\n",
    "model.compile(loss=losses.MSE, optimizer=optimizers.SGD(1e-2))\n",
    "model.summary()"
   ]
  },
  {
   "cell_type": "code",
   "execution_count": 24,
   "metadata": {},
   "outputs": [
    {
     "name": "stdout",
     "output_type": "stream",
     "text": [
      "Epoch 1/25\n",
      "7/7 [==============================] - 0s 612us/step - loss: 38.9858\n",
      "Epoch 2/25\n",
      "7/7 [==============================] - 0s 613us/step - loss: 25.5017\n",
      "Epoch 3/25\n",
      "7/7 [==============================] - 0s 658us/step - loss: 19.0410\n",
      "Epoch 4/25\n",
      "7/7 [==============================] - 0s 732us/step - loss: 14.4269\n",
      "Epoch 5/25\n",
      "7/7 [==============================] - 0s 637us/step - loss: 10.9756\n",
      "Epoch 6/25\n",
      "7/7 [==============================] - 0s 603us/step - loss: 8.3985\n",
      "Epoch 7/25\n",
      "7/7 [==============================] - 0s 590us/step - loss: 6.4366\n",
      "Epoch 8/25\n",
      "7/7 [==============================] - 0s 738us/step - loss: 4.9469\n",
      "Epoch 9/25\n",
      "7/7 [==============================] - 0s 743us/step - loss: 3.6375\n",
      "Epoch 10/25\n",
      "7/7 [==============================] - 0s 847us/step - loss: 2.8306\n",
      "Epoch 11/25\n",
      "7/7 [==============================] - 0s 821us/step - loss: 2.2256\n",
      "Epoch 12/25\n",
      "7/7 [==============================] - 0s 725us/step - loss: 1.7145\n",
      "Epoch 13/25\n",
      "7/7 [==============================] - 0s 857us/step - loss: 1.3462\n",
      "Epoch 14/25\n",
      "7/7 [==============================] - 0s 891us/step - loss: 1.0784\n",
      "Epoch 15/25\n",
      "7/7 [==============================] - 0s 826us/step - loss: 0.8727\n",
      "Epoch 16/25\n",
      "7/7 [==============================] - 0s 856us/step - loss: 0.7253\n",
      "Epoch 17/25\n",
      "7/7 [==============================] - 0s 966us/step - loss: 0.6135\n",
      "Epoch 18/25\n",
      "7/7 [==============================] - 0s 906us/step - loss: 0.5128\n",
      "Epoch 19/25\n",
      "7/7 [==============================] - 0s 918us/step - loss: 0.4519\n",
      "Epoch 20/25\n",
      "7/7 [==============================] - 0s 799us/step - loss: 0.4020\n",
      "Epoch 21/25\n",
      "7/7 [==============================] - 0s 733us/step - loss: 0.3693\n",
      "Epoch 22/25\n",
      "7/7 [==============================] - 0s 1ms/step - loss: 0.3382\n",
      "Epoch 23/25\n",
      "7/7 [==============================] - 0s 861us/step - loss: 0.3273\n",
      "Epoch 24/25\n",
      "7/7 [==============================] - 0s 900us/step - loss: 0.3081\n",
      "Epoch 25/25\n",
      "7/7 [==============================] - 0s 752us/step - loss: 0.2909\n"
     ]
    },
    {
     "data": {
      "text/plain": [
       "<keras.callbacks.History at 0x7fab10ab59a0>"
      ]
     },
     "execution_count": 24,
     "metadata": {},
     "output_type": "execute_result"
    }
   ],
   "source": [
    "model.fit(x, y, batch_size=16, epochs=25)"
   ]
  },
  {
   "cell_type": "code",
   "execution_count": 25,
   "metadata": {},
   "outputs": [
    {
     "data": {
      "text/plain": [
       "[<matplotlib.lines.Line2D at 0x7fab10abb130>]"
      ]
     },
     "execution_count": 25,
     "metadata": {},
     "output_type": "execute_result"
    },
    {
     "data": {
      "image/png": "[encoded data removed]",
      "text/plain": [
       "<Figure size 432x288 with 1 Axes>"
      ]
     },
     "metadata": {
      "needs_background": "light"
     },
     "output_type": "display_data"
    }
   ],
   "source": [
    "plt.scatter(x,y)\n",
    "xp = np.linspace(-6,6,100)\n",
    "yp = model.predict(xp.reshape(-1,1))\n",
    "plt.plot(xp, yp, 'r')"
   ]
  },
  {
   "cell_type": "code",
   "execution_count": 26,
   "metadata": {},
   "outputs": [
    {
     "data": {
      "text/plain": [
       "[array([[0.38914183]], dtype=float32), array([5.881606], dtype=float32)]"
      ]
     },
     "execution_count": 26,
     "metadata": {},
     "output_type": "execute_result"
    }
   ],
   "source": [
    "model.get_weights()"
   ]
  },
  {
   "cell_type": "markdown",
   "metadata": {
    "slideshow": {
     "slide_type": "subslide"
    }
   },
   "source": [
    "# Learning rate"
   ]
  },
  {
   "cell_type": "markdown",
   "metadata": {},
   "source": [
    "Equivalent to our step size, it should be just right.\n",
    "\n",
    "* Too small - convergance is slow\n",
    "* Just right - converge quickly and produce good models\n",
    "* Too big - will not converge at all\n"
   ]
  },
  {
   "cell_type": "markdown",
   "metadata": {},
   "source": [
    "https://playground.tensorflow.org/#activation=tanh&batchSize=10&dataset=circle&regDataset=reg-plane&learningRate=0.03&regularizationRate=0&noise=0&networkShape=4,2&seed=0.43424&showTestData=false&discretize=false&percTrainData=50&x=true&y=true&xTimesY=false&xSquared=false&ySquared=false&cosX=false&sinX=false&cosY=false&sinY=false&collectStats=false&problem=classification&initZero=false&hideText=false"
   ]
  },
  {
   "cell_type": "markdown",
   "metadata": {
    "slideshow": {
     "slide_type": "subslide"
    }
   },
   "source": [
    "# Optimizers"
   ]
  },
  {
   "cell_type": "markdown",
   "metadata": {},
   "source": [
    "Using a fixed step size is very simplified\n",
    "We can end up in situations were the gradient can get stuck at a local minima.\n",
    "\n",
    "The job of an optimizer is to be more intilligent about how the gradient is applied"
   ]
  },
  {
   "cell_type": "markdown",
   "metadata": {},
   "source": [
    "https://www.fatalerrors.org/a/tensorflow-summary-and-comparison-of-various-optimizers.html"
   ]
  },
  {
   "cell_type": "markdown",
   "metadata": {
    "slideshow": {
     "slide_type": "slide"
    }
   },
   "source": [
    "# Keras - Sequential vs Functional API\n",
    "\n",
    " * **Sequential** - The network is always one sequence of transformations, no splits or merges\n",
    "    + May be used as a building block in the Functional API\n",
    "    + Method of use: Add layers\n",
    " * **Functional** - The network may be constists of multiple inputs and outputs\n",
    "    + Method of use: Create layer, use the layer as a function"
   ]
  },
  {
   "cell_type": "markdown",
   "metadata": {
    "slideshow": {
     "slide_type": "subslide"
    }
   },
   "source": [
    "# Keras - Sequential API"
   ]
  },
  {
   "cell_type": "code",
   "execution_count": 29,
   "metadata": {},
   "outputs": [],
   "source": [
    "# Sequential API - one line\n",
    "\n",
    "model_seq = Sequential()\n",
    "model_seq.add(layers.Input(shape=(28,28,1))) # Not strictly necessary\n",
    "model_seq.add(layers.Conv2D(2, kernel_size=(3,3)))\n",
    "model_seq.add(layers.MaxPooling2D(pool_size=(2, 2)))\n",
    "model_seq.add(layers.Flatten()) # Flattening the 2D arrays for fully connected layers\n",
    "model_seq.add(layers.Dense(128, activation=\"relu\"))\n",
    "model_seq.add(layers.Dropout(0.2))\n",
    "model_seq.add(layers.Dense(10,activation=\"softmax\"))"
   ]
  },
  {
   "cell_type": "markdown",
   "metadata": {
    "slideshow": {
     "slide_type": "subslide"
    }
   },
   "source": [
    "# Keras - Sequential API"
   ]
  },
  {
   "cell_type": "code",
   "execution_count": 30,
   "metadata": {},
   "outputs": [
    {
     "name": "stdout",
     "output_type": "stream",
     "text": [
      "Model: \"sequential_2\"\n",
      "_________________________________________________________________\n",
      "Layer (type)                 Output Shape              Param #   \n",
      "=================================================================\n",
      "conv2d (Conv2D)              (None, 26, 26, 2)         20        \n",
      "_________________________________________________________________\n",
      "max_pooling2d (MaxPooling2D) (None, 13, 13, 2)         0         \n",
      "_________________________________________________________________\n",
      "flatten (Flatten)            (None, 338)               0         \n",
      "_________________________________________________________________\n",
      "dense_2 (Dense)              (None, 128)               43392     \n",
      "_________________________________________________________________\n",
      "dropout (Dropout)            (None, 128)               0         \n",
      "_________________________________________________________________\n",
      "dense_3 (Dense)              (None, 10)                1290      \n",
      "=================================================================\n",
      "Total params: 44,702\n",
      "Trainable params: 44,702\n",
      "Non-trainable params: 0\n",
      "_________________________________________________________________\n"
     ]
    }
   ],
   "source": [
    "model_seq.compile(loss=\"categorical_crossentropy\", optimizer=\"adam\")\n",
    "model_seq.summary()"
   ]
  },
  {
   "cell_type": "markdown",
   "metadata": {
    "slideshow": {
     "slide_type": "subslide"
    }
   },
   "source": [
    "# Keras - Sequential API"
   ]
  },
  {
   "cell_type": "code",
   "execution_count": 31,
   "metadata": {
    "slideshow": {
     "slide_type": "-"
    }
   },
   "outputs": [
    {
     "data": {
      "image/png": "[encoded data removed]",
      "text/plain": [
       "<IPython.core.display.Image object>"
      ]
     },
     "execution_count": 31,
     "metadata": {},
     "output_type": "execute_result"
    }
   ],
   "source": [
    "utils.plot_model(model_seq)"
   ]
  },
  {
   "cell_type": "markdown",
   "metadata": {
    "slideshow": {
     "slide_type": "subslide"
    }
   },
   "source": [
    "# Keras - Functional API"
   ]
  },
  {
   "cell_type": "code",
   "execution_count": null,
   "metadata": {},
   "outputs": [],
   "source": [
    "#tf.keras.backend.clear_session()"
   ]
  },
  {
   "cell_type": "code",
   "execution_count": 34,
   "metadata": {},
   "outputs": [],
   "source": [
    "# Functional API - graph, free to choose\n",
    "\n",
    "x_in = layers.Input(shape=(28,28,1),name=\"image\")\n",
    "x = layers.Conv2D(2, kernel_size=(3,3))(x_in)\n",
    "x = layers.MaxPooling2D(pool_size=(2, 2))(x)\n",
    "x = layers.Flatten()(x)\n",
    "x = layers.Dense(128, activation=\"relu\")(x)\n",
    "x = layers.Dropout(0.2)(x)\n",
    "y = layers.Dense(10,activation=\"softmax\", name=\"label\")(x)\n",
    "\n",
    "model_fn = Model(inputs=[x_in], outputs=[y])"
   ]
  },
  {
   "cell_type": "code",
   "execution_count": 35,
   "metadata": {},
   "outputs": [
    {
     "name": "stdout",
     "output_type": "stream",
     "text": [
      "Model: \"model_1\"\n",
      "_________________________________________________________________\n",
      "Layer (type)                 Output Shape              Param #   \n",
      "=================================================================\n",
      "image (InputLayer)           [(None, 28, 28, 1)]       0         \n",
      "_________________________________________________________________\n",
      "conv2d_2 (Conv2D)            (None, 26, 26, 2)         20        \n",
      "_________________________________________________________________\n",
      "max_pooling2d_2 (MaxPooling2 (None, 13, 13, 2)         0         \n",
      "_________________________________________________________________\n",
      "flatten_2 (Flatten)          (None, 338)               0         \n",
      "_________________________________________________________________\n",
      "dense_5 (Dense)              (None, 128)               43392     \n",
      "_________________________________________________________________\n",
      "dropout_2 (Dropout)          (None, 128)               0         \n",
      "_________________________________________________________________\n",
      "label (Dense)                (None, 10)                1290      \n",
      "=================================================================\n",
      "Total params: 44,702\n",
      "Trainable params: 44,702\n",
      "Non-trainable params: 0\n",
      "_________________________________________________________________\n"
     ]
    }
   ],
   "source": [
    "model_fn.compile(loss=\"sparse_categorical_crossentropy\", optimizer=\"adam\")\n",
    "model_fn.summary()"
   ]
  },
  {
   "cell_type": "code",
   "execution_count": 36,
   "metadata": {},
   "outputs": [
    {
     "data": {
      "image/png": "[encoded data removed]",
      "text/plain": [
       "<IPython.core.display.Image object>"
      ]
     },
     "execution_count": 36,
     "metadata": {},
     "output_type": "execute_result"
    }
   ],
   "source": [
    "utils.plot_model(model_fn)"
   ]
  },
  {
   "cell_type": "markdown",
   "metadata": {
    "slideshow": {
     "slide_type": "slide"
    }
   },
   "source": [
    "# Train a model on MNIST"
   ]
  },
  {
   "cell_type": "markdown",
   "metadata": {},
   "source": [
    "### Prepare data"
   ]
  },
  {
   "cell_type": "code",
   "execution_count": 37,
   "metadata": {},
   "outputs": [],
   "source": [
    "import tensorflow_datasets as tfds"
   ]
  },
  {
   "cell_type": "code",
   "execution_count": 38,
   "metadata": {},
   "outputs": [],
   "source": [
    "# MNIST Model\n",
    "ds_train, ds_test = tfds.load('mnist', split=['train', 'test'], shuffle_files=False)"
   ]
  },
  {
   "cell_type": "code",
   "execution_count": 40,
   "metadata": {},
   "outputs": [],
   "source": [
    "def convert(data):\n",
    "     return data[\"image\"], data[\"label\"]"
   ]
  },
  {
   "cell_type": "code",
   "execution_count": 41,
   "metadata": {},
   "outputs": [],
   "source": [
    "X,y = next(ds_train.map(convert).take(1).as_numpy_iterator())"
   ]
  },
  {
   "cell_type": "code",
   "execution_count": 42,
   "metadata": {},
   "outputs": [
    {
     "data": {
      "text/plain": [
       "<matplotlib.image.AxesImage at 0x7fab51fb9b50>"
      ]
     },
     "execution_count": 42,
     "metadata": {},
     "output_type": "execute_result"
    },
    {
     "data": {
      "image/png": "[encoded data removed]",
      "text/plain": [
       "<Figure size 432x288 with 1 Axes>"
      ]
     },
     "metadata": {
      "needs_background": "light"
     },
     "output_type": "display_data"
    }
   ],
   "source": [
    "plt.imshow(X)"
   ]
  },
  {
   "cell_type": "code",
   "execution_count": 43,
   "metadata": {},
   "outputs": [
    {
     "data": {
      "text/plain": [
       "4"
      ]
     },
     "execution_count": 43,
     "metadata": {},
     "output_type": "execute_result"
    }
   ],
   "source": [
    "y"
   ]
  },
  {
   "cell_type": "code",
   "execution_count": 44,
   "metadata": {},
   "outputs": [],
   "source": [
    "train = ds_train.map(convert, num_parallel_calls=tf.data.AUTOTUNE)\\\n",
    "                .cache()\\\n",
    "                .shuffle(60000)\\\n",
    "                .batch(32)"
   ]
  },
  {
   "cell_type": "code",
   "execution_count": 45,
   "metadata": {},
   "outputs": [
    {
     "name": "stdout",
     "output_type": "stream",
     "text": [
      "Epoch 1/10\n",
      "1875/1875 [==============================] - 11s 5ms/step - loss: 2.8098\n",
      "Epoch 2/10\n",
      "1875/1875 [==============================] - 9s 5ms/step - loss: 0.4395\n",
      "Epoch 3/10\n",
      "1875/1875 [==============================] - 9s 5ms/step - loss: 0.3073\n",
      "Epoch 4/10\n",
      "1875/1875 [==============================] - 9s 5ms/step - loss: 0.2410\n",
      "Epoch 5/10\n",
      "1875/1875 [==============================] - 10s 5ms/step - loss: 0.1955\n",
      "Epoch 6/10\n",
      "1875/1875 [==============================] - 10s 5ms/step - loss: 0.1708\n",
      "Epoch 7/10\n",
      "1875/1875 [==============================] - 9s 5ms/step - loss: 0.1531\n",
      "Epoch 8/10\n",
      "1875/1875 [==============================] - 9s 5ms/step - loss: 0.1347\n",
      "Epoch 9/10\n",
      "1875/1875 [==============================] - 9s 5ms/step - loss: 0.1278\n",
      "Epoch 10/10\n",
      "1875/1875 [==============================] - 9s 5ms/step - loss: 0.1206\n"
     ]
    }
   ],
   "source": [
    "history = model_fn.fit(train, epochs=10)"
   ]
  },
  {
   "cell_type": "code",
   "execution_count": 46,
   "metadata": {},
   "outputs": [],
   "source": [
    "#model_fn = tf.keras.models.load_model(\"mnist.h5\")"
   ]
  },
  {
   "cell_type": "code",
   "execution_count": 47,
   "metadata": {},
   "outputs": [],
   "source": [
    "y_pred = model_fn.predict(ds_test.map(convert).batch(128))"
   ]
  },
  {
   "cell_type": "code",
   "execution_count": 49,
   "metadata": {},
   "outputs": [
    {
     "data": {
      "text/plain": [
       "array([1.1706150e-13, 2.3036508e-09, 9.9999082e-01, 8.6170512e-06,\n",
       "       2.2107145e-12, 1.2883548e-09, 1.0442019e-12, 5.1704382e-07,\n",
       "       8.5776619e-10, 2.0069478e-16], dtype=float32)"
      ]
     },
     "execution_count": 49,
     "metadata": {},
     "output_type": "execute_result"
    }
   ],
   "source": [
    "y_pred[0]"
   ]
  },
  {
   "cell_type": "code",
   "execution_count": null,
   "metadata": {},
   "outputs": [],
   "source": [
    "#model_fn.save(\"mnist.h5\")"
   ]
  },
  {
   "cell_type": "code",
   "execution_count": 54,
   "metadata": {},
   "outputs": [
    {
     "data": {
      "text/plain": [
       "array([[1.1706150e-13, 2.3036508e-09, 9.9999082e-01, 8.6170512e-06,\n",
       "        2.2107145e-12, 1.2883548e-09, 1.0442019e-12, 5.1704382e-07,\n",
       "        8.5776619e-10, 2.0069478e-16],\n",
       "       [1.0000000e+00, 1.1932905e-25, 1.1726976e-09, 2.3614883e-13,\n",
       "        9.7302666e-16, 4.9971596e-11, 1.9692337e-08, 2.5014948e-09,\n",
       "        7.2194049e-11, 5.7059073e-09]], dtype=float32)"
      ]
     },
     "execution_count": 54,
     "metadata": {},
     "output_type": "execute_result"
    }
   ],
   "source": [
    "y_pred[0:2]"
   ]
  },
  {
   "cell_type": "code",
   "execution_count": 51,
   "metadata": {},
   "outputs": [
    {
     "data": {
      "image/png": "[encoded data removed]",
      "text/plain": [
       "<Figure size 432x288 with 1 Axes>"
      ]
     },
     "metadata": {
      "needs_background": "light"
     },
     "output_type": "display_data"
    }
   ],
   "source": [
    "plt.hist(y_pred.flatten(), bins=128, log=True)\n",
    "plt.show()"
   ]
  },
  {
   "cell_type": "code",
   "execution_count": 55,
   "metadata": {},
   "outputs": [],
   "source": [
    "y_pred_classes = np.argmax(y_pred, axis=1)"
   ]
  },
  {
   "cell_type": "code",
   "execution_count": 56,
   "metadata": {},
   "outputs": [],
   "source": [
    "y_true = np.array([sample[\"label\"] for sample in ds_test.as_numpy_iterator()])"
   ]
  },
  {
   "cell_type": "code",
   "execution_count": 57,
   "metadata": {},
   "outputs": [
    {
     "name": "stdout",
     "output_type": "stream",
     "text": [
      "              precision    recall  f1-score   support\n",
      "\n",
      "           0       0.97      0.99      0.98       980\n",
      "           1       0.99      0.99      0.99      1135\n",
      "           2       0.98      0.98      0.98      1032\n",
      "           3       0.97      0.96      0.97      1010\n",
      "           4       0.96      0.98      0.97       982\n",
      "           5       0.98      0.95      0.96       892\n",
      "           6       0.97      0.98      0.98       958\n",
      "           7       0.97      0.98      0.97      1028\n",
      "           8       0.96      0.97      0.96       974\n",
      "           9       0.98      0.95      0.96      1009\n",
      "\n",
      "    accuracy                           0.97     10000\n",
      "   macro avg       0.97      0.97      0.97     10000\n",
      "weighted avg       0.97      0.97      0.97     10000\n",
      "\n"
     ]
    }
   ],
   "source": [
    "print(classification_report(y_true, y_pred_classes.flatten()))"
   ]
  },
  {
   "cell_type": "code",
   "execution_count": 58,
   "metadata": {},
   "outputs": [
    {
     "data": {
      "text/html": [
       "<div>\n",
       "<style scoped>\n",
       "    .dataframe tbody tr th:only-of-type {\n",
       "        vertical-align: middle;\n",
       "    }\n",
       "\n",
       "    .dataframe tbody tr th {\n",
       "        vertical-align: top;\n",
       "    }\n",
       "\n",
       "    .dataframe thead th {\n",
       "        text-align: right;\n",
       "    }\n",
       "</style>\n",
       "<table border=\"1\" class=\"dataframe\">\n",
       "  <thead>\n",
       "    <tr style=\"text-align: right;\">\n",
       "      <th></th>\n",
       "      <th>0</th>\n",
       "      <th>1</th>\n",
       "      <th>2</th>\n",
       "      <th>3</th>\n",
       "      <th>4</th>\n",
       "      <th>5</th>\n",
       "      <th>6</th>\n",
       "      <th>7</th>\n",
       "      <th>8</th>\n",
       "      <th>9</th>\n",
       "    </tr>\n",
       "  </thead>\n",
       "  <tbody>\n",
       "    <tr>\n",
       "      <th>0</th>\n",
       "      <td>969</td>\n",
       "      <td>0</td>\n",
       "      <td>0</td>\n",
       "      <td>0</td>\n",
       "      <td>0</td>\n",
       "      <td>1</td>\n",
       "      <td>4</td>\n",
       "      <td>2</td>\n",
       "      <td>4</td>\n",
       "      <td>0</td>\n",
       "    </tr>\n",
       "    <tr>\n",
       "      <th>1</th>\n",
       "      <td>0</td>\n",
       "      <td>1124</td>\n",
       "      <td>3</td>\n",
       "      <td>0</td>\n",
       "      <td>0</td>\n",
       "      <td>1</td>\n",
       "      <td>2</td>\n",
       "      <td>1</td>\n",
       "      <td>4</td>\n",
       "      <td>0</td>\n",
       "    </tr>\n",
       "    <tr>\n",
       "      <th>2</th>\n",
       "      <td>4</td>\n",
       "      <td>1</td>\n",
       "      <td>1011</td>\n",
       "      <td>2</td>\n",
       "      <td>2</td>\n",
       "      <td>1</td>\n",
       "      <td>2</td>\n",
       "      <td>5</td>\n",
       "      <td>4</td>\n",
       "      <td>0</td>\n",
       "    </tr>\n",
       "    <tr>\n",
       "      <th>3</th>\n",
       "      <td>1</td>\n",
       "      <td>0</td>\n",
       "      <td>5</td>\n",
       "      <td>974</td>\n",
       "      <td>0</td>\n",
       "      <td>11</td>\n",
       "      <td>0</td>\n",
       "      <td>7</td>\n",
       "      <td>9</td>\n",
       "      <td>3</td>\n",
       "    </tr>\n",
       "    <tr>\n",
       "      <th>4</th>\n",
       "      <td>1</td>\n",
       "      <td>0</td>\n",
       "      <td>2</td>\n",
       "      <td>0</td>\n",
       "      <td>965</td>\n",
       "      <td>0</td>\n",
       "      <td>4</td>\n",
       "      <td>0</td>\n",
       "      <td>2</td>\n",
       "      <td>8</td>\n",
       "    </tr>\n",
       "    <tr>\n",
       "      <th>5</th>\n",
       "      <td>4</td>\n",
       "      <td>0</td>\n",
       "      <td>0</td>\n",
       "      <td>13</td>\n",
       "      <td>2</td>\n",
       "      <td>847</td>\n",
       "      <td>11</td>\n",
       "      <td>4</td>\n",
       "      <td>6</td>\n",
       "      <td>5</td>\n",
       "    </tr>\n",
       "    <tr>\n",
       "      <th>6</th>\n",
       "      <td>4</td>\n",
       "      <td>2</td>\n",
       "      <td>0</td>\n",
       "      <td>0</td>\n",
       "      <td>3</td>\n",
       "      <td>4</td>\n",
       "      <td>942</td>\n",
       "      <td>0</td>\n",
       "      <td>3</td>\n",
       "      <td>0</td>\n",
       "    </tr>\n",
       "    <tr>\n",
       "      <th>7</th>\n",
       "      <td>0</td>\n",
       "      <td>1</td>\n",
       "      <td>9</td>\n",
       "      <td>1</td>\n",
       "      <td>6</td>\n",
       "      <td>0</td>\n",
       "      <td>0</td>\n",
       "      <td>1004</td>\n",
       "      <td>2</td>\n",
       "      <td>5</td>\n",
       "    </tr>\n",
       "    <tr>\n",
       "      <th>8</th>\n",
       "      <td>9</td>\n",
       "      <td>0</td>\n",
       "      <td>3</td>\n",
       "      <td>5</td>\n",
       "      <td>6</td>\n",
       "      <td>0</td>\n",
       "      <td>2</td>\n",
       "      <td>6</td>\n",
       "      <td>940</td>\n",
       "      <td>3</td>\n",
       "    </tr>\n",
       "    <tr>\n",
       "      <th>9</th>\n",
       "      <td>2</td>\n",
       "      <td>2</td>\n",
       "      <td>0</td>\n",
       "      <td>4</td>\n",
       "      <td>22</td>\n",
       "      <td>1</td>\n",
       "      <td>0</td>\n",
       "      <td>11</td>\n",
       "      <td>5</td>\n",
       "      <td>962</td>\n",
       "    </tr>\n",
       "  </tbody>\n",
       "</table>\n",
       "</div>"
      ],
      "text/plain": [
       "     0     1     2    3    4    5    6     7    8    9\n",
       "0  969     0     0    0    0    1    4     2    4    0\n",
       "1    0  1124     3    0    0    1    2     1    4    0\n",
       "2    4     1  1011    2    2    1    2     5    4    0\n",
       "3    1     0     5  974    0   11    0     7    9    3\n",
       "4    1     0     2    0  965    0    4     0    2    8\n",
       "5    4     0     0   13    2  847   11     4    6    5\n",
       "6    4     2     0    0    3    4  942     0    3    0\n",
       "7    0     1     9    1    6    0    0  1004    2    5\n",
       "8    9     0     3    5    6    0    2     6  940    3\n",
       "9    2     2     0    4   22    1    0    11    5  962"
      ]
     },
     "execution_count": 58,
     "metadata": {},
     "output_type": "execute_result"
    }
   ],
   "source": [
    "pd.DataFrame(confusion_matrix(y_true, y_pred_classes), columns = list(range(10)))"
   ]
  },
  {
   "cell_type": "code",
   "execution_count": 59,
   "metadata": {},
   "outputs": [
    {
     "data": {
      "text/plain": [
       "<AxesSubplot:>"
      ]
     },
     "execution_count": 59,
     "metadata": {},
     "output_type": "execute_result"
    },
    {
     "data": {
      "image/png": "[encoded data removed]",
      "text/plain": [
       "<Figure size 720x720 with 2 Axes>"
      ]
     },
     "metadata": {
      "needs_background": "light"
     },
     "output_type": "display_data"
    }
   ],
   "source": [
    "df_cm = pd.DataFrame(confusion_matrix(y_true, y_pred_classes), \n",
    "                     index = list(range(10)),\n",
    "                     columns = list(range(10)))\n",
    "\n",
    "plt.figure(figsize = (10,10))\n",
    "\n",
    "sn.heatmap(df_cm, annot=True)"
   ]
  },
  {
   "cell_type": "markdown",
   "metadata": {
    "slideshow": {
     "slide_type": "slide"
    }
   },
   "source": [
    "<h1 style=\"margin-bottom: 15px\">Summary</h1>\n",
    "\n",
    "<div style=\"border-radius: 15px; padding: 0px; background: #EDE4DC;\">\n",
    "    <h3 style=\"background: #915f2d; color: #FFFFFF; border-radius: 15px; padding: 8px; margin: 0\">Putting it all together</h3>\n",
    "    <div style=\"padding: 5px\">\n",
    "    <ul style=\"margin:0\">\n",
    "        <li><b>Concepts</b>\n",
    "            <ul>\n",
    "                <li>Gradient decent</li>\n",
    "                <li>Optimization</li>\n",
    "                <li>Auto diffrentiation</li>\n",
    "                <li>Learning rate</li>\n",
    "                <li>Underfitting/Overfitting</li>\n",
    "                <li>Confusion matrix</li>\n",
    "            </ul>\n",
    "        </li>\n",
    "        <li>Keras Model API - Loading/Saving models</li>\n",
    "        <li><b>Live coding:</b>\n",
    "            <ul>\n",
    "                <li>MNIST</li>\n",
    "                <li>Citrus Leaves classification</li>\n",
    "                <li>Transfer learning - Citrus Leaves</li>\n",
    "                <li>Transfer learning with augmentation - Citrus Leaves</li>\n",
    "            </ul>\n",
    "        </li>\n",
    "     </ul>\n",
    "    </div>\n",
    "</div>"
   ]
  }
 ],
 "metadata": {
  "celltoolbar": "Slideshow",
  "kernelspec": {
   "display_name": "Python 3",
   "language": "python",
   "name": "python3"
  },
  "language_info": {
   "codemirror_mode": {
    "name": "ipython",
    "version": 3
   },
   "file_extension": ".py",
   "mimetype": "text/x-python",
   "name": "python",
   "nbconvert_exporter": "python",
   "pygments_lexer": "ipython3",
   "version": "3.8.5"
  },
  "rise": {
   "scroll": true,
   "start_slideshow_at": "selected",
   "transition": "slide"
  }
 },
 "nbformat": 4,
 "nbformat_minor": 4
}
